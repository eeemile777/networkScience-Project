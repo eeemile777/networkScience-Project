{
 "cells": [
  {
   "cell_type": "markdown",
   "id": "e1a09665",
   "metadata": {},
   "source": [
    "# Karate Club Network Analysis\n",
    "\n",
    "This notebook analyzes the Karate Club network."
   ]
  },
  {
   "cell_type": "code",
   "execution_count": null,
   "id": "901d4419",
   "metadata": {},
   "outputs": [],
   "source": [
    "import networkx as nx\n",
    "import matplotlib.pyplot as plt\n",
    "\n",
    "# Load the Karate Club graph\n",
    "G = nx.karate_club_graph()\n",
    "\n",
    "# Basic Information about the graph\n",
    "print(\"Number of nodes:\", G.number_of_nodes())\n",
    "print(\"Number of edges:\", G.number_of_edges())\n"
   ]
  },
  {
   "cell_type": "code",
   "execution_count": null,
   "id": "2ddffa4d",
   "metadata": {},
   "outputs": [],
   "source": [
    "# Draw the graph\n",
    "plt.figure(figsize=(10, 10))\n",
    "nx.draw(G, with_labels=True, node_color='lightblue', font_weight='bold', node_size=700)\n",
    "plt.show()\n"
   ]
  },
  {
   "cell_type": "code",
   "execution_count": null,
   "id": "fca860ea",
   "metadata": {},
   "outputs": [],
   "source": [
    "# Compute some metrics\n",
    "degree_centrality = nx.degree_centrality(G)\n",
    "closeness_centrality = nx.closeness_centrality(G)\n",
    "betweenness_centrality = nx.betweenness_centrality(G)\n",
    "\n",
    "# Display top 5 nodes based on degree centrality\n",
    "sorted_degree = sorted(degree_centrality.items(), key=lambda x: x[1], reverse=True)\n",
    "print(\"Top 5 nodes by degree centrality:\", sorted_degree[:5])\n"
   ]
  },
  {
   "cell_type": "code",
   "execution_count": null,
   "id": "47abb6d4",
   "metadata": {},
   "outputs": [],
   "source": [
    "# Plot Degree Distribution\n",
    "degree_sequence = sorted([d for n, d in G.degree()], reverse=True)\n",
    "plt.figure(figsize=(8,6))\n",
    "plt.bar(range(len(degree_sequence)), degree_sequence, color='blue')\n",
    "plt.title(\"Degree Distribution\")\n",
    "plt.ylabel(\"Degree\")\n",
    "plt.xlabel(\"Node\")\n",
    "plt.show()\n"
   ]
  }
 ],
 "metadata": {},
 "nbformat": 4,
 "nbformat_minor": 5
}
